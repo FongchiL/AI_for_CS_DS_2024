{
 "cells": [
  {
   "cell_type": "code",
   "execution_count": 8,
   "id": "b77a0586",
   "metadata": {},
   "outputs": [
    {
     "ename": "KeyError",
     "evalue": "\"name='sessiontoken', domain=None, path=None\"",
     "output_type": "error",
     "traceback": [
      "\u001b[0;31m---------------------------------------------------------------------------\u001b[0m",
      "\u001b[0;31mKeyError\u001b[0m                                  Traceback (most recent call last)",
      "\u001b[0;32m<ipython-input-8-77421a89aa82>\u001b[0m in \u001b[0;36m<module>\u001b[0;34m\u001b[0m\n\u001b[1;32m     15\u001b[0m cookies = {\n\u001b[1;32m     16\u001b[0m     \u001b[0;34m\"csrftoken\"\u001b[0m\u001b[0;34m:\u001b[0m \u001b[0mcsrf_token\u001b[0m\u001b[0;34m,\u001b[0m\u001b[0;34m\u001b[0m\u001b[0;34m\u001b[0m\u001b[0m\n\u001b[0;32m---> 17\u001b[0;31m     \u001b[0;34m\"LEETCODE_SESSION\"\u001b[0m\u001b[0;34m:\u001b[0m \u001b[0mresponse\u001b[0m\u001b[0;34m.\u001b[0m\u001b[0mcookies\u001b[0m\u001b[0;34m[\u001b[0m\u001b[0;34m'sessiontoken'\u001b[0m\u001b[0;34m]\u001b[0m\u001b[0;34m,\u001b[0m\u001b[0;34m\u001b[0m\u001b[0;34m\u001b[0m\u001b[0m\n\u001b[0m\u001b[1;32m     18\u001b[0m }\n\u001b[1;32m     19\u001b[0m \u001b[0;34m\u001b[0m\u001b[0m\n",
      "\u001b[0;32m~/opt/anaconda3/lib/python3.8/site-packages/requests/cookies.py\u001b[0m in \u001b[0;36m__getitem__\u001b[0;34m(self, name)\u001b[0m\n\u001b[1;32m    326\u001b[0m         \u001b[0;34m.\u001b[0m\u001b[0;34m.\u001b[0m \u001b[0mwarning\u001b[0m\u001b[0;34m:\u001b[0m\u001b[0;34m:\u001b[0m \u001b[0moperation\u001b[0m \u001b[0;32mis\u001b[0m \u001b[0mO\u001b[0m\u001b[0;34m(\u001b[0m\u001b[0mn\u001b[0m\u001b[0;34m)\u001b[0m\u001b[0;34m,\u001b[0m \u001b[0;32mnot\u001b[0m \u001b[0mO\u001b[0m\u001b[0;34m(\u001b[0m\u001b[0;36m1\u001b[0m\u001b[0;34m)\u001b[0m\u001b[0;34m.\u001b[0m\u001b[0;34m\u001b[0m\u001b[0;34m\u001b[0m\u001b[0m\n\u001b[1;32m    327\u001b[0m         \"\"\"\n\u001b[0;32m--> 328\u001b[0;31m         \u001b[0;32mreturn\u001b[0m \u001b[0mself\u001b[0m\u001b[0;34m.\u001b[0m\u001b[0m_find_no_duplicates\u001b[0m\u001b[0;34m(\u001b[0m\u001b[0mname\u001b[0m\u001b[0;34m)\u001b[0m\u001b[0;34m\u001b[0m\u001b[0;34m\u001b[0m\u001b[0m\n\u001b[0m\u001b[1;32m    329\u001b[0m \u001b[0;34m\u001b[0m\u001b[0m\n\u001b[1;32m    330\u001b[0m     \u001b[0;32mdef\u001b[0m \u001b[0m__setitem__\u001b[0m\u001b[0;34m(\u001b[0m\u001b[0mself\u001b[0m\u001b[0;34m,\u001b[0m \u001b[0mname\u001b[0m\u001b[0;34m,\u001b[0m \u001b[0mvalue\u001b[0m\u001b[0;34m)\u001b[0m\u001b[0;34m:\u001b[0m\u001b[0;34m\u001b[0m\u001b[0;34m\u001b[0m\u001b[0m\n",
      "\u001b[0;32m~/opt/anaconda3/lib/python3.8/site-packages/requests/cookies.py\u001b[0m in \u001b[0;36m_find_no_duplicates\u001b[0;34m(self, name, domain, path)\u001b[0m\n\u001b[1;32m    397\u001b[0m         \u001b[0;32mif\u001b[0m \u001b[0mtoReturn\u001b[0m\u001b[0;34m:\u001b[0m\u001b[0;34m\u001b[0m\u001b[0;34m\u001b[0m\u001b[0m\n\u001b[1;32m    398\u001b[0m             \u001b[0;32mreturn\u001b[0m \u001b[0mtoReturn\u001b[0m\u001b[0;34m\u001b[0m\u001b[0;34m\u001b[0m\u001b[0m\n\u001b[0;32m--> 399\u001b[0;31m         \u001b[0;32mraise\u001b[0m \u001b[0mKeyError\u001b[0m\u001b[0;34m(\u001b[0m\u001b[0;34m'name=%r, domain=%r, path=%r'\u001b[0m \u001b[0;34m%\u001b[0m \u001b[0;34m(\u001b[0m\u001b[0mname\u001b[0m\u001b[0;34m,\u001b[0m \u001b[0mdomain\u001b[0m\u001b[0;34m,\u001b[0m \u001b[0mpath\u001b[0m\u001b[0;34m)\u001b[0m\u001b[0;34m)\u001b[0m\u001b[0;34m\u001b[0m\u001b[0;34m\u001b[0m\u001b[0m\n\u001b[0m\u001b[1;32m    400\u001b[0m \u001b[0;34m\u001b[0m\u001b[0m\n\u001b[1;32m    401\u001b[0m     \u001b[0;32mdef\u001b[0m \u001b[0m__getstate__\u001b[0m\u001b[0;34m(\u001b[0m\u001b[0mself\u001b[0m\u001b[0;34m)\u001b[0m\u001b[0;34m:\u001b[0m\u001b[0;34m\u001b[0m\u001b[0;34m\u001b[0m\u001b[0m\n",
      "\u001b[0;31mKeyError\u001b[0m: \"name='sessiontoken', domain=None, path=None\""
     ]
    }
   ],
   "source": [
    "# import requests\n",
    "\n",
    "# Set up the API endpoint URL\n",
    "endpoint_url = \"https://leetcode.com/problems/left-and-right-sum-differences/submit/\"\n",
    "url = \"https://leetcode.com/\"\n",
    "response = requests.get(url)\n",
    "\n",
    "\n",
    "# Set up the headers and cookies needed for authentication\n",
    "headers = {\n",
    "    \"Referer\": url,\n",
    "    \"User-Agent\": \"Mozilla/5.0 (Windows NT 10.0; Win64; x64) AppleWebKit/537.36 (KHTML, like Gecko) Chrome/58.0.3029.110 Safari/537.36\",\n",
    "    \"X-CSRFToken\": csrf_token,\n",
    "}\n",
    "cookies = {\n",
    "    \"csrftoken\": csrf_token,\n",
    "    \"LEETCODE_SESSION\": response.cookies['sessiontoken'],\n",
    "}\n",
    "\n",
    "# Set up the solution code and language\n",
    "code = s\n",
    "lang = \"python3\" # e.g. \"python3\"\n",
    "\n",
    "# Set up the payload for the API request\n",
    "payload = {\n",
    "    \"data_input\": s,\n",
    "    \"lang\": lang,\n",
    "    \"question_id\": \"2574\",\n",
    "    \"test_mode\": False,\n",
    "    \"judge_type\": \"large\",\n",
    "    \"typed_code\": code,\n",
    "}\n",
    "\n",
    "# Send the HTTP POST request to submit the solution\n",
    "response = requests.post(endpoint_url, headers=headers, cookies=cookies, json=payload)\n",
    "\n",
    "# Check the response status code\n",
    "if response.status_code == 200:\n",
    "    print(\"Solution submitted successfully!\")\n",
    "else:\n",
    "    print(response.status_code)\n",
    "    print(\"Submission failed.\")\n"
   ]
  },
  {
   "cell_type": "code",
   "execution_count": 7,
   "id": "04318cbd",
   "metadata": {},
   "outputs": [
    {
     "name": "stdout",
     "output_type": "stream",
     "text": [
      "Login successful\n",
      "<requests.sessions.Session object at 0x7fd5093423d0>\n"
     ]
    }
   ],
   "source": [
    "import requests\n",
    "session = requests.Session()\n",
    "\n",
    "# Send a POST request to the login endpoint with your username and password\n",
    "login_url = 'https://leetcode.com/accounts/login/'\n",
    "username = 'adisak.sukul@gmail.com'\n",
    "password = 'LeetPass_v1'\n",
    "response = session.get(\"https://leetcode.com/accounts/login/\")\n",
    "csrf_token = response.cookies['csrftoken']\n",
    "headers = {'Referer': login_url}\n",
    "data = {'csrfmiddlewaretoken': csrf_token, 'login': username, 'password': password}\n",
    "response = session.post(login_url, headers=headers, data=data)\n",
    "\n",
    "# Check if login was successful\n",
    "if 'csrftoken' in session.cookies:\n",
    "    print('Login successful')\n",
    "else:\n",
    "    print('Login failed')\n",
    "    \n",
    "print(session)"
   ]
  },
  {
   "cell_type": "code",
   "execution_count": null,
   "id": "fffccd52",
   "metadata": {},
   "outputs": [],
   "source": []
  },
  {
   "cell_type": "code",
   "execution_count": 4,
   "id": "b181971b",
   "metadata": {},
   "outputs": [],
   "source": [
    "s = \"\"\"class Solution:\n",
    "    def getSumAbsoluteDifferences(self, nums: List[int]) -> List[int]:\n",
    "        n = len(nums)\n",
    "        left_sum = [0] * n\n",
    "        right_sum = [0] * n\n",
    "        left_sum[0] = nums[0]\n",
    "        right_sum[-1] = nums[-1]\n",
    "        for i in range(1, n):\n",
    "            left_sum[i] = left_sum[i - 1] + nums[i]\n",
    "        for i in range(n - 2, -1, -1):\n",
    "            right_sum[i] = right_sum[i + 1] + nums[i]\n",
    "        answer = [0] * n\n",
    "        for i in range(n):\n",
    "            if i == 0:\n",
    "                answer[i] = abs(right_sum[i + 1])\n",
    "            elif i == n - 1:\n",
    "                answer[i] = abs(left_sum[i - 1])\n",
    "            else:\n",
    "                answer[i] = abs(left_sum[i - 1] - right_sum[i + 1])\n",
    "        return answer\"\"\""
   ]
  },
  {
   "cell_type": "code",
   "execution_count": 5,
   "id": "7b329e16",
   "metadata": {},
   "outputs": [
    {
     "name": "stdout",
     "output_type": "stream",
     "text": [
      "class Solution:\n",
      "    def getSumAbsoluteDifferences(self, nums: List[int]) -> List[int]:\n",
      "        n = len(nums)\n",
      "        left_sum = [0] * n\n",
      "        right_sum = [0] * n\n",
      "        left_sum[0] = nums[0]\n",
      "        right_sum[-1] = nums[-1]\n",
      "        for i in range(1, n):\n",
      "            left_sum[i] = left_sum[i - 1] + nums[i]\n",
      "        for i in range(n - 2, -1, -1):\n",
      "            right_sum[i] = right_sum[i + 1] + nums[i]\n",
      "        answer = [0] * n\n",
      "        for i in range(n):\n",
      "            if i == 0:\n",
      "                answer[i] = abs(right_sum[i + 1])\n",
      "            elif i == n - 1:\n",
      "                answer[i] = abs(left_sum[i - 1])\n",
      "            else:\n",
      "                answer[i] = abs(left_sum[i - 1] - right_sum[i + 1])\n",
      "        return answer\n"
     ]
    }
   ],
   "source": [
    "print(s)"
   ]
  }
 ],
 "metadata": {
  "kernelspec": {
   "display_name": "Python 3",
   "language": "python",
   "name": "python3"
  },
  "language_info": {
   "codemirror_mode": {
    "name": "ipython",
    "version": 3
   },
   "file_extension": ".py",
   "mimetype": "text/x-python",
   "name": "python",
   "nbconvert_exporter": "python",
   "pygments_lexer": "ipython3",
   "version": "3.8.8"
  }
 },
 "nbformat": 4,
 "nbformat_minor": 5
}
