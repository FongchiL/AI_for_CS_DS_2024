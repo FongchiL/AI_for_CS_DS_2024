{
 "cells": [
  {
   "cell_type": "code",
   "execution_count": 13,
   "id": "ac65815f",
   "metadata": {},
   "outputs": [
    {
     "name": "stdout",
     "output_type": "stream",
     "text": [
      "Error: Failed to submit code. Status code: 499\n"
     ]
    }
   ],
   "source": [
    "import requests\n",
    "import json\n",
    "\n",
    "# set up the session\n",
    "session = requests.Session()\n",
    "\n",
    "# log in to LeetCode and obtain the session token\n",
    "login_url = \"https://leetcode.com/accounts/login/\"\n",
    "login_data = {\n",
    "    \"login\": \"adisak.sukul@gmail.com\",\n",
    "    \"password\": \"LeetPass_v1\"\n",
    "}\n",
    "session.post(login_url, data=login_data)\n",
    "\n",
    "# set up the submission\n",
    "submit_url = \"https://leetcode.com/problems/two-sum/submissions/\"\n",
    "submission_data = {\n",
    "    \"question_id\": \"1\",\n",
    "    \"lang\": \"python3\",\n",
    "    \"typed_code\": s\n",
    "}\n",
    "\n",
    "# submit the code and get the result\n",
    "headers = {\n",
    "    \"Referer\": \"https://leetcode.com/problems/two-sum/\"\n",
    "}\n",
    "response = session.post(submit_url, data=submission_data, headers=headers)\n",
    "\n",
    "# handle errors\n",
    "if response.status_code != 200:\n",
    "    print(f\"Error: Failed to submit code. Status code: {response.status_code}\")\n",
    "else:\n",
    "    try:\n",
    "        decoder = json.JSONDecoder()\n",
    "        result, idx = decoder.raw_decode(response.text)\n",
    "        if idx != len(response.text):\n",
    "            print(\"Error: Failed to decode the entire response as JSON\")\n",
    "        elif result[\"code\"] == 0:\n",
    "            submission_id = result[\"submission_id\"]\n",
    "            print(f\"Submission successful! Submission ID: {submission_id}\")\n",
    "        else:\n",
    "            print(f\"Error: Submission failed! Error code: {result['code']}, message: {result['msg']}\")\n",
    "    except json.JSONDecodeError as e:\n",
    "        print(f\"Error: Failed to parse response as JSON. Response text: {response.text}\")\n",
    "        print(f\"JSONDecodeError: {e}\")\n"
   ]
  },
  {
   "cell_type": "code",
   "execution_count": null,
   "id": "11d5d0e4",
   "metadata": {},
   "outputs": [],
   "source": [
    "s =\n",
    "\"\"\"class Solution:\n",
    "    def twoSum(self, nums: List[int], target: int) -> List[int]:\n",
    "        complement_to_index = {}\n",
    "        for i, num in enumerate(nums):\n",
    "            complement = target - num\n",
    "            if complement in complement_to_index:\n",
    "                return [complement_to_index[complement], i]\n",
    "            complement_to_index[num] = i\"\"\""
   ]
  },
  {
   "cell_type": "code",
   "execution_count": 14,
   "id": "2d808563",
   "metadata": {},
   "outputs": [
    {
     "ename": "ModuleNotFoundError",
     "evalue": "No module named 'selenium'",
     "output_type": "error",
     "traceback": [
      "\u001b[0;31m---------------------------------------------------------------------------\u001b[0m",
      "\u001b[0;31mModuleNotFoundError\u001b[0m                       Traceback (most recent call last)",
      "\u001b[0;32m<ipython-input-14-ba876c1f9a44>\u001b[0m in \u001b[0;36m<module>\u001b[0;34m\u001b[0m\n\u001b[0;32m----> 1\u001b[0;31m \u001b[0;32mfrom\u001b[0m \u001b[0mselenium\u001b[0m \u001b[0;32mimport\u001b[0m \u001b[0mwebdriver\u001b[0m\u001b[0;34m\u001b[0m\u001b[0;34m\u001b[0m\u001b[0m\n\u001b[0m\u001b[1;32m      2\u001b[0m \u001b[0;32mfrom\u001b[0m \u001b[0mselenium\u001b[0m\u001b[0;34m.\u001b[0m\u001b[0mwebdriver\u001b[0m\u001b[0;34m.\u001b[0m\u001b[0mcommon\u001b[0m\u001b[0;34m.\u001b[0m\u001b[0mkeys\u001b[0m \u001b[0;32mimport\u001b[0m \u001b[0mKeys\u001b[0m\u001b[0;34m\u001b[0m\u001b[0;34m\u001b[0m\u001b[0m\n\u001b[1;32m      3\u001b[0m \u001b[0;32mimport\u001b[0m \u001b[0mtime\u001b[0m\u001b[0;34m\u001b[0m\u001b[0;34m\u001b[0m\u001b[0m\n\u001b[1;32m      4\u001b[0m \u001b[0;34m\u001b[0m\u001b[0m\n\u001b[1;32m      5\u001b[0m \u001b[0;31m# set up the webdriver\u001b[0m\u001b[0;34m\u001b[0m\u001b[0;34m\u001b[0m\u001b[0;34m\u001b[0m\u001b[0m\n",
      "\u001b[0;31mModuleNotFoundError\u001b[0m: No module named 'selenium'"
     ]
    }
   ],
   "source": [
    "import sele\n",
    "from selenium import webdriver\n",
    "from selenium.webdriver.common.keys import Keys\n",
    "import time\n",
    "\n",
    "# set up the webdriver\n",
    "browser = webdriver.Chrome()\n",
    "browser.get(\"https://leetcode.com/accounts/login/\")\n",
    "time.sleep(2)\n",
    "\n",
    "# log in to LeetCode\n",
    "email_field = browser.find_element_by_name(\"login\")\n",
    "email_field.send_keys(\"adisak.sukul@gmail.com\")\n",
    "password_field = browser.find_element_by_name(\"password\")\n",
    "password_field.send_keys(\"LeetPass_v1\")\n",
    "password_field.send_keys(Keys.RETURN)\n",
    "time.sleep(2)\n",
    "\n",
    "# navigate to the problem submission page\n",
    "browser.get(\"https://leetcode.com/problems/two-sum/\")\n",
    "time.sleep(2)\n",
    "\n",
    "# click on the \"Submit\" button\n",
    "submit_button = browser.find_element_by_css_selector(\"a[data-cy='question-submit-btn']\")\n",
    "submit_button.click()\n",
    "time.sleep(2)\n",
    "\n",
    "# select Python 3 as the language\n",
    "python3_button = browser.find_element_by_css_selector(\"a[title='python3']\")\n",
    "python3_button.click()\n",
    "time.sleep(2)\n",
    "\n",
    "# paste your solution in the text area\n",
    "solution_textarea = browser.find_element_by_name(\"code\")\n",
    "solution_textarea.clear()\n",
    "solution_textarea.send_keys(s)\n",
    "\n",
    "# click on the \"Submit\" button\n",
    "submit_button = browser.find_element_by_css_selector(\"button[data-cy='submit-code-btn']\")\n",
    "submit_button.click()\n",
    "time.sleep(2)\n",
    "\n",
    "# close the browser\n",
    "browser.quit()\n"
   ]
  },
  {
   "cell_type": "code",
   "execution_count": null,
   "id": "66cde42b",
   "metadata": {},
   "outputs": [],
   "source": []
  }
 ],
 "metadata": {
  "kernelspec": {
   "display_name": "Python 3",
   "language": "python",
   "name": "python3"
  },
  "language_info": {
   "codemirror_mode": {
    "name": "ipython",
    "version": 3
   },
   "file_extension": ".py",
   "mimetype": "text/x-python",
   "name": "python",
   "nbconvert_exporter": "python",
   "pygments_lexer": "ipython3",
   "version": "3.8.8"
  }
 },
 "nbformat": 4,
 "nbformat_minor": 5
}
